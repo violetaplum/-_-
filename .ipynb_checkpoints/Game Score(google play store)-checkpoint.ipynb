{
 "cells": [
  {
   "cell_type": "code",
   "execution_count": 2,
   "metadata": {},
   "outputs": [],
   "source": [
    "import os\n",
    "from bs4 import BeautifulSoup\n",
    "import sys\n",
    "from selenium import webdriver\n",
    "import webbrowser\n",
    "import urllib\n",
    "import re\n",
    "from urllib.request import urlopen"
   ]
  },
  {
   "cell_type": "code",
   "execution_count": 3,
   "metadata": {},
   "outputs": [],
   "source": [
    "driver = webdriver.Chrome('C:/Users/KGITBANK/Desktop/오후반/chromedriver_win32/chromedriver')"
   ]
  },
  {
   "cell_type": "code",
   "execution_count": 4,
   "metadata": {},
   "outputs": [],
   "source": [
    "driver.implicitly_wait(3)"
   ]
  },
  {
   "cell_type": "code",
   "execution_count": 5,
   "metadata": {},
   "outputs": [],
   "source": [
    "url='https://play.google.com/store/apps/collection/cluster?clp=ChwKGgoUdG9wc2VsbGluZ19mcmVlX0dBTUUQBxgD:S:ANO1ljJH_B0&gsr=Ch4KHAoaChR0b3BzZWxsaW5nX2ZyZWVfR0FNRRAHGAM%3D:S:ANO1ljLEXvI'"
   ]
  },
  {
   "cell_type": "code",
   "execution_count": 6,
   "metadata": {},
   "outputs": [],
   "source": [
    "driver.get(url)"
   ]
  },
  {
   "cell_type": "code",
   "execution_count": 7,
   "metadata": {},
   "outputs": [],
   "source": [
    "soup=BeautifulSoup(driver.page_source,'lxml')"
   ]
  },
  {
   "cell_type": "code",
   "execution_count": 12,
   "metadata": {},
   "outputs": [],
   "source": [
    "star = soup.select('.pf5lIe')"
   ]
  },
  {
   "cell_type": "code",
   "execution_count": 13,
   "metadata": {},
   "outputs": [
    {
     "data": {
      "text/plain": [
       "[<div class=\"pf5lIe\"><div aria-label=\"별표 5개 만점에 4.2개를 받았습니다.\" role=\"img\"><div class=\"vQHuPe bUWb7c\"></div><div class=\"vQHuPe bUWb7c\"></div><div class=\"vQHuPe bUWb7c\"></div><div class=\"vQHuPe bUWb7c\"></div><div class=\"L0jl5e bUWb7c cm4lTe\"><div class=\"vQHuPe bUWb7c D3FNOd\" style=\"width: 15.259933471679688%\"></div></div></div></div>,\n",
       " <div class=\"pf5lIe\"><div aria-label=\"별표 5개 만점에 4.1개를 받았습니다.\" role=\"img\"><div class=\"vQHuPe bUWb7c\"></div><div class=\"vQHuPe bUWb7c\"></div><div class=\"vQHuPe bUWb7c\"></div><div class=\"vQHuPe bUWb7c\"></div><div class=\"L0jl5e bUWb7c cm4lTe\"><div class=\"vQHuPe bUWb7c D3FNOd\" style=\"width: 14.983367919921875%\"></div></div></div></div>,\n",
       " <div class=\"pf5lIe\"><div aria-label=\"별표 5개 만점에 4.4개를 받았습니다.\" role=\"img\"><div class=\"vQHuPe bUWb7c\"></div><div class=\"vQHuPe bUWb7c\"></div><div class=\"vQHuPe bUWb7c\"></div><div class=\"vQHuPe bUWb7c\"></div><div class=\"L0jl5e bUWb7c cm4lTe\"><div class=\"vQHuPe bUWb7c D3FNOd\" style=\"width: 37.908124923706055%\"></div></div></div></div>,\n",
       " <div class=\"pf5lIe\"><div aria-label=\"별표 5개 만점에 4.4개를 받았습니다.\" role=\"img\"><div class=\"vQHuPe bUWb7c\"></div><div class=\"vQHuPe bUWb7c\"></div><div class=\"vQHuPe bUWb7c\"></div><div class=\"vQHuPe bUWb7c\"></div><div class=\"L0jl5e bUWb7c cm4lTe\"><div class=\"vQHuPe bUWb7c D3FNOd\" style=\"width: 38.997745513916016%\"></div></div></div></div>,\n",
       " <div class=\"pf5lIe\"><div aria-label=\"별표 5개 만점에 4.2개를 받았습니다.\" role=\"img\"><div class=\"vQHuPe bUWb7c\"></div><div class=\"vQHuPe bUWb7c\"></div><div class=\"vQHuPe bUWb7c\"></div><div class=\"vQHuPe bUWb7c\"></div><div class=\"L0jl5e bUWb7c cm4lTe\"><div class=\"vQHuPe bUWb7c D3FNOd\" style=\"width: 15.508031845092773%\"></div></div></div></div>,\n",
       " <div class=\"pf5lIe\"><div aria-label=\"별표 5개 만점에 4.9개를 받았습니다.\" role=\"img\"><div class=\"vQHuPe bUWb7c\"></div><div class=\"vQHuPe bUWb7c\"></div><div class=\"vQHuPe bUWb7c\"></div><div class=\"vQHuPe bUWb7c\"></div><div class=\"L0jl5e bUWb7c cm4lTe\"><div class=\"vQHuPe bUWb7c D3FNOd\" style=\"width: 90.47093391418457%\"></div></div></div></div>,\n",
       " <div class=\"pf5lIe\"><div aria-label=\"별표 5개 만점에 4.2개를 받았습니다.\" role=\"img\"><div class=\"vQHuPe bUWb7c\"></div><div class=\"vQHuPe bUWb7c\"></div><div class=\"vQHuPe bUWb7c\"></div><div class=\"vQHuPe bUWb7c\"></div><div class=\"L0jl5e bUWb7c cm4lTe\"><div class=\"vQHuPe bUWb7c D3FNOd\" style=\"width: 19.057178497314453%\"></div></div></div></div>,\n",
       " <div class=\"pf5lIe\"><div aria-label=\"별표 5개 만점에 3.8개를 받았습니다.\" role=\"img\"><div class=\"vQHuPe bUWb7c\"></div><div class=\"vQHuPe bUWb7c\"></div><div class=\"vQHuPe bUWb7c\"></div><div class=\"L0jl5e bUWb7c cm4lTe\"><div class=\"vQHuPe bUWb7c D3FNOd\" style=\"width: 77.99148559570312%\"></div></div><div class=\"L0jl5e bUWb7c\"></div></div></div>,\n",
       " <div class=\"pf5lIe\"><div aria-label=\"별표 5개 만점에 4.4개를 받았습니다.\" role=\"img\"><div class=\"vQHuPe bUWb7c\"></div><div class=\"vQHuPe bUWb7c\"></div><div class=\"vQHuPe bUWb7c\"></div><div class=\"vQHuPe bUWb7c\"></div><div class=\"L0jl5e bUWb7c cm4lTe\"><div class=\"vQHuPe bUWb7c D3FNOd\" style=\"width: 42.96879768371582%\"></div></div></div></div>,\n",
       " <div class=\"pf5lIe\"><div aria-label=\"별표 5개 만점에 4.5개를 받았습니다.\" role=\"img\"><div class=\"vQHuPe bUWb7c\"></div><div class=\"vQHuPe bUWb7c\"></div><div class=\"vQHuPe bUWb7c\"></div><div class=\"vQHuPe bUWb7c\"></div><div class=\"L0jl5e bUWb7c cm4lTe\"><div class=\"vQHuPe bUWb7c D3FNOd\" style=\"width: 52.199649810791016%\"></div></div></div></div>,\n",
       " <div class=\"pf5lIe\"><div aria-label=\"별표 5개 만점에 4.5개를 받았습니다.\" role=\"img\"><div class=\"vQHuPe bUWb7c\"></div><div class=\"vQHuPe bUWb7c\"></div><div class=\"vQHuPe bUWb7c\"></div><div class=\"vQHuPe bUWb7c\"></div><div class=\"L0jl5e bUWb7c cm4lTe\"><div class=\"vQHuPe bUWb7c D3FNOd\" style=\"width: 52.72111892700195%\"></div></div></div></div>,\n",
       " <div class=\"pf5lIe\"><div aria-label=\"별표 5개 만점에 4.2개를 받았습니다.\" role=\"img\"><div class=\"vQHuPe bUWb7c\"></div><div class=\"vQHuPe bUWb7c\"></div><div class=\"vQHuPe bUWb7c\"></div><div class=\"vQHuPe bUWb7c\"></div><div class=\"L0jl5e bUWb7c cm4lTe\"><div class=\"vQHuPe bUWb7c D3FNOd\" style=\"width: 20.992708206176758%\"></div></div></div></div>,\n",
       " <div class=\"pf5lIe\"><div aria-label=\"별표 5개 만점에 4.0개를 받았습니다.\" role=\"img\"><div class=\"vQHuPe bUWb7c\"></div><div class=\"vQHuPe bUWb7c\"></div><div class=\"vQHuPe bUWb7c\"></div><div class=\"L0jl5e bUWb7c cm4lTe\"><div class=\"vQHuPe bUWb7c D3FNOd\" style=\"width: 95.18027305603027%\"></div></div><div class=\"L0jl5e bUWb7c\"></div></div></div>,\n",
       " <div class=\"pf5lIe\"><div aria-label=\"별표 5개 만점에 4.5개를 받았습니다.\" role=\"img\"><div class=\"vQHuPe bUWb7c\"></div><div class=\"vQHuPe bUWb7c\"></div><div class=\"vQHuPe bUWb7c\"></div><div class=\"vQHuPe bUWb7c\"></div><div class=\"L0jl5e bUWb7c cm4lTe\"><div class=\"vQHuPe bUWb7c D3FNOd\" style=\"width: 53.22747230529785%\"></div></div></div></div>,\n",
       " <div class=\"pf5lIe\"><div aria-label=\"별표 5개 만점에 2.9개를 받았습니다.\" role=\"img\"><div class=\"vQHuPe bUWb7c\"></div><div class=\"vQHuPe bUWb7c\"></div><div class=\"L0jl5e bUWb7c cm4lTe\"><div class=\"vQHuPe bUWb7c D3FNOd\" style=\"width: 88.33780288696289%\"></div></div><div class=\"L0jl5e bUWb7c\"></div><div class=\"L0jl5e bUWb7c\"></div></div></div>,\n",
       " <div class=\"pf5lIe\"><div aria-label=\"별표 5개 만점에 4.5개를 받았습니다.\" role=\"img\"><div class=\"vQHuPe bUWb7c\"></div><div class=\"vQHuPe bUWb7c\"></div><div class=\"vQHuPe bUWb7c\"></div><div class=\"vQHuPe bUWb7c\"></div><div class=\"L0jl5e bUWb7c cm4lTe\"><div class=\"vQHuPe bUWb7c D3FNOd\" style=\"width: 49.283409118652344%\"></div></div></div></div>,\n",
       " <div class=\"pf5lIe\"><div aria-label=\"별표 5개 만점에 4.6개를 받았습니다.\" role=\"img\"><div class=\"vQHuPe bUWb7c\"></div><div class=\"vQHuPe bUWb7c\"></div><div class=\"vQHuPe bUWb7c\"></div><div class=\"vQHuPe bUWb7c\"></div><div class=\"L0jl5e bUWb7c cm4lTe\"><div class=\"vQHuPe bUWb7c D3FNOd\" style=\"width: 63.75441551208496%\"></div></div></div></div>,\n",
       " <div class=\"pf5lIe\"><div aria-label=\"별표 5개 만점에 4.5개를 받았습니다.\" role=\"img\"><div class=\"vQHuPe bUWb7c\"></div><div class=\"vQHuPe bUWb7c\"></div><div class=\"vQHuPe bUWb7c\"></div><div class=\"vQHuPe bUWb7c\"></div><div class=\"L0jl5e bUWb7c cm4lTe\"><div class=\"vQHuPe bUWb7c D3FNOd\" style=\"width: 53.96933555603027%\"></div></div></div></div>,\n",
       " <div class=\"pf5lIe\"><div aria-label=\"별표 5개 만점에 3.9개를 받았습니다.\" role=\"img\"><div class=\"vQHuPe bUWb7c\"></div><div class=\"vQHuPe bUWb7c\"></div><div class=\"vQHuPe bUWb7c\"></div><div class=\"L0jl5e bUWb7c cm4lTe\"><div class=\"vQHuPe bUWb7c D3FNOd\" style=\"width: 91.71192646026611%\"></div></div><div class=\"L0jl5e bUWb7c\"></div></div></div>,\n",
       " <div class=\"pf5lIe\"><div aria-label=\"별표 5개 만점에 4.3개를 받았습니다.\" role=\"img\"><div class=\"vQHuPe bUWb7c\"></div><div class=\"vQHuPe bUWb7c\"></div><div class=\"vQHuPe bUWb7c\"></div><div class=\"vQHuPe bUWb7c\"></div><div class=\"L0jl5e bUWb7c cm4lTe\"><div class=\"vQHuPe bUWb7c D3FNOd\" style=\"width: 32.16414451599121%\"></div></div></div></div>,\n",
       " <div class=\"pf5lIe\"><div aria-label=\"별표 5개 만점에 4.7개를 받았습니다.\" role=\"img\"><div class=\"vQHuPe bUWb7c\"></div><div class=\"vQHuPe bUWb7c\"></div><div class=\"vQHuPe bUWb7c\"></div><div class=\"vQHuPe bUWb7c\"></div><div class=\"L0jl5e bUWb7c cm4lTe\"><div class=\"vQHuPe bUWb7c D3FNOd\" style=\"width: 74.81646537780762%\"></div></div></div></div>,\n",
       " <div class=\"pf5lIe\"><div aria-label=\"별표 5개 만점에 3.3개를 받았습니다.\" role=\"img\"><div class=\"vQHuPe bUWb7c\"></div><div class=\"vQHuPe bUWb7c\"></div><div class=\"vQHuPe bUWb7c\"></div><div class=\"L0jl5e bUWb7c cm4lTe\"><div class=\"vQHuPe bUWb7c D3FNOd\" style=\"width: 26.080822944641113%\"></div></div><div class=\"L0jl5e bUWb7c\"></div></div></div>,\n",
       " <div class=\"pf5lIe\"><div aria-label=\"별표 5개 만점에 4.4개를 받았습니다.\" role=\"img\"><div class=\"vQHuPe bUWb7c\"></div><div class=\"vQHuPe bUWb7c\"></div><div class=\"vQHuPe bUWb7c\"></div><div class=\"vQHuPe bUWb7c\"></div><div class=\"L0jl5e bUWb7c cm4lTe\"><div class=\"vQHuPe bUWb7c D3FNOd\" style=\"width: 35.01334190368652%\"></div></div></div></div>,\n",
       " <div class=\"pf5lIe\"><div aria-label=\"별표 5개 만점에 3.3개를 받았습니다.\" role=\"img\"><div class=\"vQHuPe bUWb7c\"></div><div class=\"vQHuPe bUWb7c\"></div><div class=\"vQHuPe bUWb7c\"></div><div class=\"L0jl5e bUWb7c cm4lTe\"><div class=\"vQHuPe bUWb7c D3FNOd\" style=\"width: 26.18076801300049%\"></div></div><div class=\"L0jl5e bUWb7c\"></div></div></div>,\n",
       " <div class=\"pf5lIe\"><div aria-label=\"별표 5개 만점에 4.2개를 받았습니다.\" role=\"img\"><div class=\"vQHuPe bUWb7c\"></div><div class=\"vQHuPe bUWb7c\"></div><div class=\"vQHuPe bUWb7c\"></div><div class=\"vQHuPe bUWb7c\"></div><div class=\"L0jl5e bUWb7c cm4lTe\"><div class=\"vQHuPe bUWb7c D3FNOd\" style=\"width: 24.507570266723633%\"></div></div></div></div>,\n",
       " <div class=\"pf5lIe\"><div aria-label=\"별표 5개 만점에 4.3개를 받았습니다.\" role=\"img\"><div class=\"vQHuPe bUWb7c\"></div><div class=\"vQHuPe bUWb7c\"></div><div class=\"vQHuPe bUWb7c\"></div><div class=\"vQHuPe bUWb7c\"></div><div class=\"L0jl5e bUWb7c cm4lTe\"><div class=\"vQHuPe bUWb7c D3FNOd\" style=\"width: 32.76782035827637%\"></div></div></div></div>,\n",
       " <div class=\"pf5lIe\"><div aria-label=\"별표 5개 만점에 4.5개를 받았습니다.\" role=\"img\"><div class=\"vQHuPe bUWb7c\"></div><div class=\"vQHuPe bUWb7c\"></div><div class=\"vQHuPe bUWb7c\"></div><div class=\"vQHuPe bUWb7c\"></div><div class=\"L0jl5e bUWb7c cm4lTe\"><div class=\"vQHuPe bUWb7c D3FNOd\" style=\"width: 54.95562553405762%\"></div></div></div></div>,\n",
       " <div class=\"pf5lIe\"><div aria-label=\"별표 5개 만점에 3.7개를 받았습니다.\" role=\"img\"><div class=\"vQHuPe bUWb7c\"></div><div class=\"vQHuPe bUWb7c\"></div><div class=\"vQHuPe bUWb7c\"></div><div class=\"L0jl5e bUWb7c cm4lTe\"><div class=\"vQHuPe bUWb7c D3FNOd\" style=\"width: 73.39639663696289%\"></div></div><div class=\"L0jl5e bUWb7c\"></div></div></div>,\n",
       " <div class=\"pf5lIe\"><div aria-label=\"별표 5개 만점에 4.3개를 받았습니다.\" role=\"img\"><div class=\"vQHuPe bUWb7c\"></div><div class=\"vQHuPe bUWb7c\"></div><div class=\"vQHuPe bUWb7c\"></div><div class=\"vQHuPe bUWb7c\"></div><div class=\"L0jl5e bUWb7c cm4lTe\"><div class=\"vQHuPe bUWb7c D3FNOd\" style=\"width: 34.05108451843262%\"></div></div></div></div>,\n",
       " <div class=\"pf5lIe\"><div aria-label=\"별표 5개 만점에 4.1개를 받았습니다.\" role=\"img\"><div class=\"vQHuPe bUWb7c\"></div><div class=\"vQHuPe bUWb7c\"></div><div class=\"vQHuPe bUWb7c\"></div><div class=\"vQHuPe bUWb7c\"></div><div class=\"L0jl5e bUWb7c cm4lTe\"><div class=\"vQHuPe bUWb7c D3FNOd\" style=\"width: 11.643838882446289%\"></div></div></div></div>,\n",
       " <div class=\"pf5lIe\"><div aria-label=\"별표 5개 만점에 4.5개를 받았습니다.\" role=\"img\"><div class=\"vQHuPe bUWb7c\"></div><div class=\"vQHuPe bUWb7c\"></div><div class=\"vQHuPe bUWb7c\"></div><div class=\"vQHuPe bUWb7c\"></div><div class=\"L0jl5e bUWb7c cm4lTe\"><div class=\"vQHuPe bUWb7c D3FNOd\" style=\"width: 47.26409912109375%\"></div></div></div></div>,\n",
       " <div class=\"pf5lIe\"><div aria-label=\"별표 5개 만점에 4.5개를 받았습니다.\" role=\"img\"><div class=\"vQHuPe bUWb7c\"></div><div class=\"vQHuPe bUWb7c\"></div><div class=\"vQHuPe bUWb7c\"></div><div class=\"vQHuPe bUWb7c\"></div><div class=\"L0jl5e bUWb7c cm4lTe\"><div class=\"vQHuPe bUWb7c D3FNOd\" style=\"width: 47.556209564208984%\"></div></div></div></div>,\n",
       " <div class=\"pf5lIe\"><div aria-label=\"별표 5개 만점에 4.0개를 받았습니다.\" role=\"img\"><div class=\"vQHuPe bUWb7c\"></div><div class=\"vQHuPe bUWb7c\"></div><div class=\"vQHuPe bUWb7c\"></div><div class=\"L0jl5e bUWb7c cm4lTe\"><div class=\"vQHuPe bUWb7c D3FNOd\" style=\"width: 95.39046287536621%\"></div></div><div class=\"L0jl5e bUWb7c\"></div></div></div>,\n",
       " <div class=\"pf5lIe\"><div aria-label=\"별표 5개 만점에 4.6개를 받았습니다.\" role=\"img\"><div class=\"vQHuPe bUWb7c\"></div><div class=\"vQHuPe bUWb7c\"></div><div class=\"vQHuPe bUWb7c\"></div><div class=\"vQHuPe bUWb7c\"></div><div class=\"L0jl5e bUWb7c cm4lTe\"><div class=\"vQHuPe bUWb7c D3FNOd\" style=\"width: 61.864662170410156%\"></div></div></div></div>,\n",
       " <div class=\"pf5lIe\"><div aria-label=\"별표 5개 만점에 4.7개를 받았습니다.\" role=\"img\"><div class=\"vQHuPe bUWb7c\"></div><div class=\"vQHuPe bUWb7c\"></div><div class=\"vQHuPe bUWb7c\"></div><div class=\"vQHuPe bUWb7c\"></div><div class=\"L0jl5e bUWb7c cm4lTe\"><div class=\"vQHuPe bUWb7c D3FNOd\" style=\"width: 67.23718643188477%\"></div></div></div></div>,\n",
       " <div class=\"pf5lIe\"><div aria-label=\"별표 5개 만점에 4.5개를 받았습니다.\" role=\"img\"><div class=\"vQHuPe bUWb7c\"></div><div class=\"vQHuPe bUWb7c\"></div><div class=\"vQHuPe bUWb7c\"></div><div class=\"vQHuPe bUWb7c\"></div><div class=\"L0jl5e bUWb7c cm4lTe\"><div class=\"vQHuPe bUWb7c D3FNOd\" style=\"width: 50.58870315551758%\"></div></div></div></div>,\n",
       " <div class=\"pf5lIe\"><div aria-label=\"별표 5개 만점에 4.0개를 받았습니다.\" role=\"img\"><div class=\"vQHuPe bUWb7c\"></div><div class=\"vQHuPe bUWb7c\"></div><div class=\"vQHuPe bUWb7c\"></div><div class=\"vQHuPe bUWb7c\"></div><div class=\"L0jl5e bUWb7c cm4lTe\"><div class=\"vQHuPe bUWb7c D3FNOd\" style=\"width: 1.9961357116699219%\"></div></div></div></div>,\n",
       " <div class=\"pf5lIe\"><div aria-label=\"별표 5개 만점에 4.6개를 받았습니다.\" role=\"img\"><div class=\"vQHuPe bUWb7c\"></div><div class=\"vQHuPe bUWb7c\"></div><div class=\"vQHuPe bUWb7c\"></div><div class=\"vQHuPe bUWb7c\"></div><div class=\"L0jl5e bUWb7c cm4lTe\"><div class=\"vQHuPe bUWb7c D3FNOd\" style=\"width: 61.22775077819824%\"></div></div></div></div>,\n",
       " <div class=\"pf5lIe\"><div aria-label=\"별표 5개 만점에 4.4개를 받았습니다.\" role=\"img\"><div class=\"vQHuPe bUWb7c\"></div><div class=\"vQHuPe bUWb7c\"></div><div class=\"vQHuPe bUWb7c\"></div><div class=\"vQHuPe bUWb7c\"></div><div class=\"L0jl5e bUWb7c cm4lTe\"><div class=\"vQHuPe bUWb7c D3FNOd\" style=\"width: 39.19072151184082%\"></div></div></div></div>,\n",
       " <div class=\"pf5lIe\"><div aria-label=\"별표 5개 만점에 4.1개를 받았습니다.\" role=\"img\"><div class=\"vQHuPe bUWb7c\"></div><div class=\"vQHuPe bUWb7c\"></div><div class=\"vQHuPe bUWb7c\"></div><div class=\"vQHuPe bUWb7c\"></div><div class=\"L0jl5e bUWb7c cm4lTe\"><div class=\"vQHuPe bUWb7c D3FNOd\" style=\"width: 8.970212936401367%\"></div></div></div></div>,\n",
       " <div class=\"pf5lIe\"><div aria-label=\"별표 5개 만점에 4.6개를 받았습니다.\" role=\"img\"><div class=\"vQHuPe bUWb7c\"></div><div class=\"vQHuPe bUWb7c\"></div><div class=\"vQHuPe bUWb7c\"></div><div class=\"vQHuPe bUWb7c\"></div><div class=\"L0jl5e bUWb7c cm4lTe\"><div class=\"vQHuPe bUWb7c D3FNOd\" style=\"width: 61.07292175292969%\"></div></div></div></div>,\n",
       " <div class=\"pf5lIe\"><div aria-label=\"별표 5개 만점에 4.2개를 받았습니다.\" role=\"img\"><div class=\"vQHuPe bUWb7c\"></div><div class=\"vQHuPe bUWb7c\"></div><div class=\"vQHuPe bUWb7c\"></div><div class=\"vQHuPe bUWb7c\"></div><div class=\"L0jl5e bUWb7c cm4lTe\"><div class=\"vQHuPe bUWb7c D3FNOd\" style=\"width: 21.418046951293945%\"></div></div></div></div>,\n",
       " <div class=\"pf5lIe\"><div aria-label=\"별표 5개 만점에 4.6개를 받았습니다.\" role=\"img\"><div class=\"vQHuPe bUWb7c\"></div><div class=\"vQHuPe bUWb7c\"></div><div class=\"vQHuPe bUWb7c\"></div><div class=\"vQHuPe bUWb7c\"></div><div class=\"L0jl5e bUWb7c cm4lTe\"><div class=\"vQHuPe bUWb7c D3FNOd\" style=\"width: 58.771371841430664%\"></div></div></div></div>,\n",
       " <div class=\"pf5lIe\"><div aria-label=\"별표 5개 만점에 3.9개를 받았습니다.\" role=\"img\"><div class=\"vQHuPe bUWb7c\"></div><div class=\"vQHuPe bUWb7c\"></div><div class=\"vQHuPe bUWb7c\"></div><div class=\"L0jl5e bUWb7c cm4lTe\"><div class=\"vQHuPe bUWb7c D3FNOd\" style=\"width: 87.23175525665283%\"></div></div><div class=\"L0jl5e bUWb7c\"></div></div></div>,\n",
       " <div class=\"pf5lIe\"><div aria-label=\"별표 5개 만점에 4.6개를 받았습니다.\" role=\"img\"><div class=\"vQHuPe bUWb7c\"></div><div class=\"vQHuPe bUWb7c\"></div><div class=\"vQHuPe bUWb7c\"></div><div class=\"vQHuPe bUWb7c\"></div><div class=\"L0jl5e bUWb7c cm4lTe\"><div class=\"vQHuPe bUWb7c D3FNOd\" style=\"width: 55.15780448913574%\"></div></div></div></div>,\n",
       " <div class=\"pf5lIe\"><div aria-label=\"별표 5개 만점에 4.7개를 받았습니다.\" role=\"img\"><div class=\"vQHuPe bUWb7c\"></div><div class=\"vQHuPe bUWb7c\"></div><div class=\"vQHuPe bUWb7c\"></div><div class=\"vQHuPe bUWb7c\"></div><div class=\"L0jl5e bUWb7c cm4lTe\"><div class=\"vQHuPe bUWb7c D3FNOd\" style=\"width: 68.03231239318848%\"></div></div></div></div>,\n",
       " <div class=\"pf5lIe\"><div aria-label=\"별표 5개 만점에 4.2개를 받았습니다.\" role=\"img\"><div class=\"vQHuPe bUWb7c\"></div><div class=\"vQHuPe bUWb7c\"></div><div class=\"vQHuPe bUWb7c\"></div><div class=\"vQHuPe bUWb7c\"></div><div class=\"L0jl5e bUWb7c cm4lTe\"><div class=\"vQHuPe bUWb7c D3FNOd\" style=\"width: 20.986557006835938%\"></div></div></div></div>,\n",
       " <div class=\"pf5lIe\"><div aria-label=\"별표 5개 만점에 4.7개를 받았습니다.\" role=\"img\"><div class=\"vQHuPe bUWb7c\"></div><div class=\"vQHuPe bUWb7c\"></div><div class=\"vQHuPe bUWb7c\"></div><div class=\"vQHuPe bUWb7c\"></div><div class=\"L0jl5e bUWb7c cm4lTe\"><div class=\"vQHuPe bUWb7c D3FNOd\" style=\"width: 69.25320625305176%\"></div></div></div></div>,\n",
       " <div class=\"pf5lIe\"><div aria-label=\"별표 5개 만점에 4.5개를 받았습니다.\" role=\"img\"><div class=\"vQHuPe bUWb7c\"></div><div class=\"vQHuPe bUWb7c\"></div><div class=\"vQHuPe bUWb7c\"></div><div class=\"vQHuPe bUWb7c\"></div><div class=\"L0jl5e bUWb7c cm4lTe\"><div class=\"vQHuPe bUWb7c D3FNOd\" style=\"width: 54.125022888183594%\"></div></div></div></div>,\n",
       " <div class=\"pf5lIe\"><div aria-label=\"별표 5개 만점에 4.6개를 받았습니다.\" role=\"img\"><div class=\"vQHuPe bUWb7c\"></div><div class=\"vQHuPe bUWb7c\"></div><div class=\"vQHuPe bUWb7c\"></div><div class=\"vQHuPe bUWb7c\"></div><div class=\"L0jl5e bUWb7c cm4lTe\"><div class=\"vQHuPe bUWb7c D3FNOd\" style=\"width: 62.027788162231445%\"></div></div></div></div>]"
      ]
     },
     "execution_count": 13,
     "metadata": {},
     "output_type": "execute_result"
    }
   ],
   "source": [
    "star"
   ]
  },
  {
   "cell_type": "code",
   "execution_count": 18,
   "metadata": {},
   "outputs": [],
   "source": [
    "starstr=list()"
   ]
  },
  {
   "cell_type": "code",
   "execution_count": 23,
   "metadata": {},
   "outputs": [],
   "source": [
    "starstr2=list()\n",
    "starstr3=list()\n",
    "starstr4=list()\n",
    "starstr5=list()"
   ]
  },
  {
   "cell_type": "code",
   "execution_count": 36,
   "metadata": {},
   "outputs": [],
   "source": [
    "starstr3=list()"
   ]
  },
  {
   "cell_type": "code",
   "execution_count": 20,
   "metadata": {},
   "outputs": [],
   "source": [
    "for e in star:\n",
    "    starstr.append(str(e))"
   ]
  },
  {
   "cell_type": "code",
   "execution_count": 22,
   "metadata": {},
   "outputs": [
    {
     "data": {
      "text/plain": [
       "['<div class=\"pf5lIe\"><div aria-label=\"별표 5개 만점에 4.2개를 받았습니다.\" role=\"img\"><div class=\"vQHuPe bUWb7c\"></div><div class=\"vQHuPe bUWb7c\"></div><div class=\"vQHuPe bUWb7c\"></div><div class=\"vQHuPe bUWb7c\"></div><div class=\"L0jl5e bUWb7c cm4lTe\"><div class=\"vQHuPe bUWb7c D3FNOd\" style=\"width: 15.259933471679688%\"></div></div></div></div>',\n",
       " '<div class=\"pf5lIe\"><div aria-label=\"별표 5개 만점에 4.1개를 받았습니다.\" role=\"img\"><div class=\"vQHuPe bUWb7c\"></div><div class=\"vQHuPe bUWb7c\"></div><div class=\"vQHuPe bUWb7c\"></div><div class=\"vQHuPe bUWb7c\"></div><div class=\"L0jl5e bUWb7c cm4lTe\"><div class=\"vQHuPe bUWb7c D3FNOd\" style=\"width: 14.983367919921875%\"></div></div></div></div>',\n",
       " '<div class=\"pf5lIe\"><div aria-label=\"별표 5개 만점에 4.4개를 받았습니다.\" role=\"img\"><div class=\"vQHuPe bUWb7c\"></div><div class=\"vQHuPe bUWb7c\"></div><div class=\"vQHuPe bUWb7c\"></div><div class=\"vQHuPe bUWb7c\"></div><div class=\"L0jl5e bUWb7c cm4lTe\"><div class=\"vQHuPe bUWb7c D3FNOd\" style=\"width: 37.908124923706055%\"></div></div></div></div>',\n",
       " '<div class=\"pf5lIe\"><div aria-label=\"별표 5개 만점에 4.4개를 받았습니다.\" role=\"img\"><div class=\"vQHuPe bUWb7c\"></div><div class=\"vQHuPe bUWb7c\"></div><div class=\"vQHuPe bUWb7c\"></div><div class=\"vQHuPe bUWb7c\"></div><div class=\"L0jl5e bUWb7c cm4lTe\"><div class=\"vQHuPe bUWb7c D3FNOd\" style=\"width: 38.997745513916016%\"></div></div></div></div>',\n",
       " '<div class=\"pf5lIe\"><div aria-label=\"별표 5개 만점에 4.2개를 받았습니다.\" role=\"img\"><div class=\"vQHuPe bUWb7c\"></div><div class=\"vQHuPe bUWb7c\"></div><div class=\"vQHuPe bUWb7c\"></div><div class=\"vQHuPe bUWb7c\"></div><div class=\"L0jl5e bUWb7c cm4lTe\"><div class=\"vQHuPe bUWb7c D3FNOd\" style=\"width: 15.508031845092773%\"></div></div></div></div>',\n",
       " '<div class=\"pf5lIe\"><div aria-label=\"별표 5개 만점에 4.9개를 받았습니다.\" role=\"img\"><div class=\"vQHuPe bUWb7c\"></div><div class=\"vQHuPe bUWb7c\"></div><div class=\"vQHuPe bUWb7c\"></div><div class=\"vQHuPe bUWb7c\"></div><div class=\"L0jl5e bUWb7c cm4lTe\"><div class=\"vQHuPe bUWb7c D3FNOd\" style=\"width: 90.47093391418457%\"></div></div></div></div>',\n",
       " '<div class=\"pf5lIe\"><div aria-label=\"별표 5개 만점에 4.2개를 받았습니다.\" role=\"img\"><div class=\"vQHuPe bUWb7c\"></div><div class=\"vQHuPe bUWb7c\"></div><div class=\"vQHuPe bUWb7c\"></div><div class=\"vQHuPe bUWb7c\"></div><div class=\"L0jl5e bUWb7c cm4lTe\"><div class=\"vQHuPe bUWb7c D3FNOd\" style=\"width: 19.057178497314453%\"></div></div></div></div>',\n",
       " '<div class=\"pf5lIe\"><div aria-label=\"별표 5개 만점에 3.8개를 받았습니다.\" role=\"img\"><div class=\"vQHuPe bUWb7c\"></div><div class=\"vQHuPe bUWb7c\"></div><div class=\"vQHuPe bUWb7c\"></div><div class=\"L0jl5e bUWb7c cm4lTe\"><div class=\"vQHuPe bUWb7c D3FNOd\" style=\"width: 77.99148559570312%\"></div></div><div class=\"L0jl5e bUWb7c\"></div></div></div>',\n",
       " '<div class=\"pf5lIe\"><div aria-label=\"별표 5개 만점에 4.4개를 받았습니다.\" role=\"img\"><div class=\"vQHuPe bUWb7c\"></div><div class=\"vQHuPe bUWb7c\"></div><div class=\"vQHuPe bUWb7c\"></div><div class=\"vQHuPe bUWb7c\"></div><div class=\"L0jl5e bUWb7c cm4lTe\"><div class=\"vQHuPe bUWb7c D3FNOd\" style=\"width: 42.96879768371582%\"></div></div></div></div>',\n",
       " '<div class=\"pf5lIe\"><div aria-label=\"별표 5개 만점에 4.5개를 받았습니다.\" role=\"img\"><div class=\"vQHuPe bUWb7c\"></div><div class=\"vQHuPe bUWb7c\"></div><div class=\"vQHuPe bUWb7c\"></div><div class=\"vQHuPe bUWb7c\"></div><div class=\"L0jl5e bUWb7c cm4lTe\"><div class=\"vQHuPe bUWb7c D3FNOd\" style=\"width: 52.199649810791016%\"></div></div></div></div>',\n",
       " '<div class=\"pf5lIe\"><div aria-label=\"별표 5개 만점에 4.5개를 받았습니다.\" role=\"img\"><div class=\"vQHuPe bUWb7c\"></div><div class=\"vQHuPe bUWb7c\"></div><div class=\"vQHuPe bUWb7c\"></div><div class=\"vQHuPe bUWb7c\"></div><div class=\"L0jl5e bUWb7c cm4lTe\"><div class=\"vQHuPe bUWb7c D3FNOd\" style=\"width: 52.72111892700195%\"></div></div></div></div>',\n",
       " '<div class=\"pf5lIe\"><div aria-label=\"별표 5개 만점에 4.2개를 받았습니다.\" role=\"img\"><div class=\"vQHuPe bUWb7c\"></div><div class=\"vQHuPe bUWb7c\"></div><div class=\"vQHuPe bUWb7c\"></div><div class=\"vQHuPe bUWb7c\"></div><div class=\"L0jl5e bUWb7c cm4lTe\"><div class=\"vQHuPe bUWb7c D3FNOd\" style=\"width: 20.992708206176758%\"></div></div></div></div>',\n",
       " '<div class=\"pf5lIe\"><div aria-label=\"별표 5개 만점에 4.0개를 받았습니다.\" role=\"img\"><div class=\"vQHuPe bUWb7c\"></div><div class=\"vQHuPe bUWb7c\"></div><div class=\"vQHuPe bUWb7c\"></div><div class=\"L0jl5e bUWb7c cm4lTe\"><div class=\"vQHuPe bUWb7c D3FNOd\" style=\"width: 95.18027305603027%\"></div></div><div class=\"L0jl5e bUWb7c\"></div></div></div>',\n",
       " '<div class=\"pf5lIe\"><div aria-label=\"별표 5개 만점에 4.5개를 받았습니다.\" role=\"img\"><div class=\"vQHuPe bUWb7c\"></div><div class=\"vQHuPe bUWb7c\"></div><div class=\"vQHuPe bUWb7c\"></div><div class=\"vQHuPe bUWb7c\"></div><div class=\"L0jl5e bUWb7c cm4lTe\"><div class=\"vQHuPe bUWb7c D3FNOd\" style=\"width: 53.22747230529785%\"></div></div></div></div>',\n",
       " '<div class=\"pf5lIe\"><div aria-label=\"별표 5개 만점에 2.9개를 받았습니다.\" role=\"img\"><div class=\"vQHuPe bUWb7c\"></div><div class=\"vQHuPe bUWb7c\"></div><div class=\"L0jl5e bUWb7c cm4lTe\"><div class=\"vQHuPe bUWb7c D3FNOd\" style=\"width: 88.33780288696289%\"></div></div><div class=\"L0jl5e bUWb7c\"></div><div class=\"L0jl5e bUWb7c\"></div></div></div>',\n",
       " '<div class=\"pf5lIe\"><div aria-label=\"별표 5개 만점에 4.5개를 받았습니다.\" role=\"img\"><div class=\"vQHuPe bUWb7c\"></div><div class=\"vQHuPe bUWb7c\"></div><div class=\"vQHuPe bUWb7c\"></div><div class=\"vQHuPe bUWb7c\"></div><div class=\"L0jl5e bUWb7c cm4lTe\"><div class=\"vQHuPe bUWb7c D3FNOd\" style=\"width: 49.283409118652344%\"></div></div></div></div>',\n",
       " '<div class=\"pf5lIe\"><div aria-label=\"별표 5개 만점에 4.6개를 받았습니다.\" role=\"img\"><div class=\"vQHuPe bUWb7c\"></div><div class=\"vQHuPe bUWb7c\"></div><div class=\"vQHuPe bUWb7c\"></div><div class=\"vQHuPe bUWb7c\"></div><div class=\"L0jl5e bUWb7c cm4lTe\"><div class=\"vQHuPe bUWb7c D3FNOd\" style=\"width: 63.75441551208496%\"></div></div></div></div>',\n",
       " '<div class=\"pf5lIe\"><div aria-label=\"별표 5개 만점에 4.5개를 받았습니다.\" role=\"img\"><div class=\"vQHuPe bUWb7c\"></div><div class=\"vQHuPe bUWb7c\"></div><div class=\"vQHuPe bUWb7c\"></div><div class=\"vQHuPe bUWb7c\"></div><div class=\"L0jl5e bUWb7c cm4lTe\"><div class=\"vQHuPe bUWb7c D3FNOd\" style=\"width: 53.96933555603027%\"></div></div></div></div>',\n",
       " '<div class=\"pf5lIe\"><div aria-label=\"별표 5개 만점에 3.9개를 받았습니다.\" role=\"img\"><div class=\"vQHuPe bUWb7c\"></div><div class=\"vQHuPe bUWb7c\"></div><div class=\"vQHuPe bUWb7c\"></div><div class=\"L0jl5e bUWb7c cm4lTe\"><div class=\"vQHuPe bUWb7c D3FNOd\" style=\"width: 91.71192646026611%\"></div></div><div class=\"L0jl5e bUWb7c\"></div></div></div>',\n",
       " '<div class=\"pf5lIe\"><div aria-label=\"별표 5개 만점에 4.3개를 받았습니다.\" role=\"img\"><div class=\"vQHuPe bUWb7c\"></div><div class=\"vQHuPe bUWb7c\"></div><div class=\"vQHuPe bUWb7c\"></div><div class=\"vQHuPe bUWb7c\"></div><div class=\"L0jl5e bUWb7c cm4lTe\"><div class=\"vQHuPe bUWb7c D3FNOd\" style=\"width: 32.16414451599121%\"></div></div></div></div>',\n",
       " '<div class=\"pf5lIe\"><div aria-label=\"별표 5개 만점에 4.7개를 받았습니다.\" role=\"img\"><div class=\"vQHuPe bUWb7c\"></div><div class=\"vQHuPe bUWb7c\"></div><div class=\"vQHuPe bUWb7c\"></div><div class=\"vQHuPe bUWb7c\"></div><div class=\"L0jl5e bUWb7c cm4lTe\"><div class=\"vQHuPe bUWb7c D3FNOd\" style=\"width: 74.81646537780762%\"></div></div></div></div>',\n",
       " '<div class=\"pf5lIe\"><div aria-label=\"별표 5개 만점에 3.3개를 받았습니다.\" role=\"img\"><div class=\"vQHuPe bUWb7c\"></div><div class=\"vQHuPe bUWb7c\"></div><div class=\"vQHuPe bUWb7c\"></div><div class=\"L0jl5e bUWb7c cm4lTe\"><div class=\"vQHuPe bUWb7c D3FNOd\" style=\"width: 26.080822944641113%\"></div></div><div class=\"L0jl5e bUWb7c\"></div></div></div>',\n",
       " '<div class=\"pf5lIe\"><div aria-label=\"별표 5개 만점에 4.4개를 받았습니다.\" role=\"img\"><div class=\"vQHuPe bUWb7c\"></div><div class=\"vQHuPe bUWb7c\"></div><div class=\"vQHuPe bUWb7c\"></div><div class=\"vQHuPe bUWb7c\"></div><div class=\"L0jl5e bUWb7c cm4lTe\"><div class=\"vQHuPe bUWb7c D3FNOd\" style=\"width: 35.01334190368652%\"></div></div></div></div>',\n",
       " '<div class=\"pf5lIe\"><div aria-label=\"별표 5개 만점에 3.3개를 받았습니다.\" role=\"img\"><div class=\"vQHuPe bUWb7c\"></div><div class=\"vQHuPe bUWb7c\"></div><div class=\"vQHuPe bUWb7c\"></div><div class=\"L0jl5e bUWb7c cm4lTe\"><div class=\"vQHuPe bUWb7c D3FNOd\" style=\"width: 26.18076801300049%\"></div></div><div class=\"L0jl5e bUWb7c\"></div></div></div>',\n",
       " '<div class=\"pf5lIe\"><div aria-label=\"별표 5개 만점에 4.2개를 받았습니다.\" role=\"img\"><div class=\"vQHuPe bUWb7c\"></div><div class=\"vQHuPe bUWb7c\"></div><div class=\"vQHuPe bUWb7c\"></div><div class=\"vQHuPe bUWb7c\"></div><div class=\"L0jl5e bUWb7c cm4lTe\"><div class=\"vQHuPe bUWb7c D3FNOd\" style=\"width: 24.507570266723633%\"></div></div></div></div>',\n",
       " '<div class=\"pf5lIe\"><div aria-label=\"별표 5개 만점에 4.3개를 받았습니다.\" role=\"img\"><div class=\"vQHuPe bUWb7c\"></div><div class=\"vQHuPe bUWb7c\"></div><div class=\"vQHuPe bUWb7c\"></div><div class=\"vQHuPe bUWb7c\"></div><div class=\"L0jl5e bUWb7c cm4lTe\"><div class=\"vQHuPe bUWb7c D3FNOd\" style=\"width: 32.76782035827637%\"></div></div></div></div>',\n",
       " '<div class=\"pf5lIe\"><div aria-label=\"별표 5개 만점에 4.5개를 받았습니다.\" role=\"img\"><div class=\"vQHuPe bUWb7c\"></div><div class=\"vQHuPe bUWb7c\"></div><div class=\"vQHuPe bUWb7c\"></div><div class=\"vQHuPe bUWb7c\"></div><div class=\"L0jl5e bUWb7c cm4lTe\"><div class=\"vQHuPe bUWb7c D3FNOd\" style=\"width: 54.95562553405762%\"></div></div></div></div>',\n",
       " '<div class=\"pf5lIe\"><div aria-label=\"별표 5개 만점에 3.7개를 받았습니다.\" role=\"img\"><div class=\"vQHuPe bUWb7c\"></div><div class=\"vQHuPe bUWb7c\"></div><div class=\"vQHuPe bUWb7c\"></div><div class=\"L0jl5e bUWb7c cm4lTe\"><div class=\"vQHuPe bUWb7c D3FNOd\" style=\"width: 73.39639663696289%\"></div></div><div class=\"L0jl5e bUWb7c\"></div></div></div>',\n",
       " '<div class=\"pf5lIe\"><div aria-label=\"별표 5개 만점에 4.3개를 받았습니다.\" role=\"img\"><div class=\"vQHuPe bUWb7c\"></div><div class=\"vQHuPe bUWb7c\"></div><div class=\"vQHuPe bUWb7c\"></div><div class=\"vQHuPe bUWb7c\"></div><div class=\"L0jl5e bUWb7c cm4lTe\"><div class=\"vQHuPe bUWb7c D3FNOd\" style=\"width: 34.05108451843262%\"></div></div></div></div>',\n",
       " '<div class=\"pf5lIe\"><div aria-label=\"별표 5개 만점에 4.1개를 받았습니다.\" role=\"img\"><div class=\"vQHuPe bUWb7c\"></div><div class=\"vQHuPe bUWb7c\"></div><div class=\"vQHuPe bUWb7c\"></div><div class=\"vQHuPe bUWb7c\"></div><div class=\"L0jl5e bUWb7c cm4lTe\"><div class=\"vQHuPe bUWb7c D3FNOd\" style=\"width: 11.643838882446289%\"></div></div></div></div>',\n",
       " '<div class=\"pf5lIe\"><div aria-label=\"별표 5개 만점에 4.5개를 받았습니다.\" role=\"img\"><div class=\"vQHuPe bUWb7c\"></div><div class=\"vQHuPe bUWb7c\"></div><div class=\"vQHuPe bUWb7c\"></div><div class=\"vQHuPe bUWb7c\"></div><div class=\"L0jl5e bUWb7c cm4lTe\"><div class=\"vQHuPe bUWb7c D3FNOd\" style=\"width: 47.26409912109375%\"></div></div></div></div>',\n",
       " '<div class=\"pf5lIe\"><div aria-label=\"별표 5개 만점에 4.5개를 받았습니다.\" role=\"img\"><div class=\"vQHuPe bUWb7c\"></div><div class=\"vQHuPe bUWb7c\"></div><div class=\"vQHuPe bUWb7c\"></div><div class=\"vQHuPe bUWb7c\"></div><div class=\"L0jl5e bUWb7c cm4lTe\"><div class=\"vQHuPe bUWb7c D3FNOd\" style=\"width: 47.556209564208984%\"></div></div></div></div>',\n",
       " '<div class=\"pf5lIe\"><div aria-label=\"별표 5개 만점에 4.0개를 받았습니다.\" role=\"img\"><div class=\"vQHuPe bUWb7c\"></div><div class=\"vQHuPe bUWb7c\"></div><div class=\"vQHuPe bUWb7c\"></div><div class=\"L0jl5e bUWb7c cm4lTe\"><div class=\"vQHuPe bUWb7c D3FNOd\" style=\"width: 95.39046287536621%\"></div></div><div class=\"L0jl5e bUWb7c\"></div></div></div>',\n",
       " '<div class=\"pf5lIe\"><div aria-label=\"별표 5개 만점에 4.6개를 받았습니다.\" role=\"img\"><div class=\"vQHuPe bUWb7c\"></div><div class=\"vQHuPe bUWb7c\"></div><div class=\"vQHuPe bUWb7c\"></div><div class=\"vQHuPe bUWb7c\"></div><div class=\"L0jl5e bUWb7c cm4lTe\"><div class=\"vQHuPe bUWb7c D3FNOd\" style=\"width: 61.864662170410156%\"></div></div></div></div>',\n",
       " '<div class=\"pf5lIe\"><div aria-label=\"별표 5개 만점에 4.7개를 받았습니다.\" role=\"img\"><div class=\"vQHuPe bUWb7c\"></div><div class=\"vQHuPe bUWb7c\"></div><div class=\"vQHuPe bUWb7c\"></div><div class=\"vQHuPe bUWb7c\"></div><div class=\"L0jl5e bUWb7c cm4lTe\"><div class=\"vQHuPe bUWb7c D3FNOd\" style=\"width: 67.23718643188477%\"></div></div></div></div>',\n",
       " '<div class=\"pf5lIe\"><div aria-label=\"별표 5개 만점에 4.5개를 받았습니다.\" role=\"img\"><div class=\"vQHuPe bUWb7c\"></div><div class=\"vQHuPe bUWb7c\"></div><div class=\"vQHuPe bUWb7c\"></div><div class=\"vQHuPe bUWb7c\"></div><div class=\"L0jl5e bUWb7c cm4lTe\"><div class=\"vQHuPe bUWb7c D3FNOd\" style=\"width: 50.58870315551758%\"></div></div></div></div>',\n",
       " '<div class=\"pf5lIe\"><div aria-label=\"별표 5개 만점에 4.0개를 받았습니다.\" role=\"img\"><div class=\"vQHuPe bUWb7c\"></div><div class=\"vQHuPe bUWb7c\"></div><div class=\"vQHuPe bUWb7c\"></div><div class=\"vQHuPe bUWb7c\"></div><div class=\"L0jl5e bUWb7c cm4lTe\"><div class=\"vQHuPe bUWb7c D3FNOd\" style=\"width: 1.9961357116699219%\"></div></div></div></div>',\n",
       " '<div class=\"pf5lIe\"><div aria-label=\"별표 5개 만점에 4.6개를 받았습니다.\" role=\"img\"><div class=\"vQHuPe bUWb7c\"></div><div class=\"vQHuPe bUWb7c\"></div><div class=\"vQHuPe bUWb7c\"></div><div class=\"vQHuPe bUWb7c\"></div><div class=\"L0jl5e bUWb7c cm4lTe\"><div class=\"vQHuPe bUWb7c D3FNOd\" style=\"width: 61.22775077819824%\"></div></div></div></div>',\n",
       " '<div class=\"pf5lIe\"><div aria-label=\"별표 5개 만점에 4.4개를 받았습니다.\" role=\"img\"><div class=\"vQHuPe bUWb7c\"></div><div class=\"vQHuPe bUWb7c\"></div><div class=\"vQHuPe bUWb7c\"></div><div class=\"vQHuPe bUWb7c\"></div><div class=\"L0jl5e bUWb7c cm4lTe\"><div class=\"vQHuPe bUWb7c D3FNOd\" style=\"width: 39.19072151184082%\"></div></div></div></div>',\n",
       " '<div class=\"pf5lIe\"><div aria-label=\"별표 5개 만점에 4.1개를 받았습니다.\" role=\"img\"><div class=\"vQHuPe bUWb7c\"></div><div class=\"vQHuPe bUWb7c\"></div><div class=\"vQHuPe bUWb7c\"></div><div class=\"vQHuPe bUWb7c\"></div><div class=\"L0jl5e bUWb7c cm4lTe\"><div class=\"vQHuPe bUWb7c D3FNOd\" style=\"width: 8.970212936401367%\"></div></div></div></div>',\n",
       " '<div class=\"pf5lIe\"><div aria-label=\"별표 5개 만점에 4.6개를 받았습니다.\" role=\"img\"><div class=\"vQHuPe bUWb7c\"></div><div class=\"vQHuPe bUWb7c\"></div><div class=\"vQHuPe bUWb7c\"></div><div class=\"vQHuPe bUWb7c\"></div><div class=\"L0jl5e bUWb7c cm4lTe\"><div class=\"vQHuPe bUWb7c D3FNOd\" style=\"width: 61.07292175292969%\"></div></div></div></div>',\n",
       " '<div class=\"pf5lIe\"><div aria-label=\"별표 5개 만점에 4.2개를 받았습니다.\" role=\"img\"><div class=\"vQHuPe bUWb7c\"></div><div class=\"vQHuPe bUWb7c\"></div><div class=\"vQHuPe bUWb7c\"></div><div class=\"vQHuPe bUWb7c\"></div><div class=\"L0jl5e bUWb7c cm4lTe\"><div class=\"vQHuPe bUWb7c D3FNOd\" style=\"width: 21.418046951293945%\"></div></div></div></div>',\n",
       " '<div class=\"pf5lIe\"><div aria-label=\"별표 5개 만점에 4.6개를 받았습니다.\" role=\"img\"><div class=\"vQHuPe bUWb7c\"></div><div class=\"vQHuPe bUWb7c\"></div><div class=\"vQHuPe bUWb7c\"></div><div class=\"vQHuPe bUWb7c\"></div><div class=\"L0jl5e bUWb7c cm4lTe\"><div class=\"vQHuPe bUWb7c D3FNOd\" style=\"width: 58.771371841430664%\"></div></div></div></div>',\n",
       " '<div class=\"pf5lIe\"><div aria-label=\"별표 5개 만점에 3.9개를 받았습니다.\" role=\"img\"><div class=\"vQHuPe bUWb7c\"></div><div class=\"vQHuPe bUWb7c\"></div><div class=\"vQHuPe bUWb7c\"></div><div class=\"L0jl5e bUWb7c cm4lTe\"><div class=\"vQHuPe bUWb7c D3FNOd\" style=\"width: 87.23175525665283%\"></div></div><div class=\"L0jl5e bUWb7c\"></div></div></div>',\n",
       " '<div class=\"pf5lIe\"><div aria-label=\"별표 5개 만점에 4.6개를 받았습니다.\" role=\"img\"><div class=\"vQHuPe bUWb7c\"></div><div class=\"vQHuPe bUWb7c\"></div><div class=\"vQHuPe bUWb7c\"></div><div class=\"vQHuPe bUWb7c\"></div><div class=\"L0jl5e bUWb7c cm4lTe\"><div class=\"vQHuPe bUWb7c D3FNOd\" style=\"width: 55.15780448913574%\"></div></div></div></div>',\n",
       " '<div class=\"pf5lIe\"><div aria-label=\"별표 5개 만점에 4.7개를 받았습니다.\" role=\"img\"><div class=\"vQHuPe bUWb7c\"></div><div class=\"vQHuPe bUWb7c\"></div><div class=\"vQHuPe bUWb7c\"></div><div class=\"vQHuPe bUWb7c\"></div><div class=\"L0jl5e bUWb7c cm4lTe\"><div class=\"vQHuPe bUWb7c D3FNOd\" style=\"width: 68.03231239318848%\"></div></div></div></div>',\n",
       " '<div class=\"pf5lIe\"><div aria-label=\"별표 5개 만점에 4.2개를 받았습니다.\" role=\"img\"><div class=\"vQHuPe bUWb7c\"></div><div class=\"vQHuPe bUWb7c\"></div><div class=\"vQHuPe bUWb7c\"></div><div class=\"vQHuPe bUWb7c\"></div><div class=\"L0jl5e bUWb7c cm4lTe\"><div class=\"vQHuPe bUWb7c D3FNOd\" style=\"width: 20.986557006835938%\"></div></div></div></div>',\n",
       " '<div class=\"pf5lIe\"><div aria-label=\"별표 5개 만점에 4.7개를 받았습니다.\" role=\"img\"><div class=\"vQHuPe bUWb7c\"></div><div class=\"vQHuPe bUWb7c\"></div><div class=\"vQHuPe bUWb7c\"></div><div class=\"vQHuPe bUWb7c\"></div><div class=\"L0jl5e bUWb7c cm4lTe\"><div class=\"vQHuPe bUWb7c D3FNOd\" style=\"width: 69.25320625305176%\"></div></div></div></div>',\n",
       " '<div class=\"pf5lIe\"><div aria-label=\"별표 5개 만점에 4.5개를 받았습니다.\" role=\"img\"><div class=\"vQHuPe bUWb7c\"></div><div class=\"vQHuPe bUWb7c\"></div><div class=\"vQHuPe bUWb7c\"></div><div class=\"vQHuPe bUWb7c\"></div><div class=\"L0jl5e bUWb7c cm4lTe\"><div class=\"vQHuPe bUWb7c D3FNOd\" style=\"width: 54.125022888183594%\"></div></div></div></div>',\n",
       " '<div class=\"pf5lIe\"><div aria-label=\"별표 5개 만점에 4.6개를 받았습니다.\" role=\"img\"><div class=\"vQHuPe bUWb7c\"></div><div class=\"vQHuPe bUWb7c\"></div><div class=\"vQHuPe bUWb7c\"></div><div class=\"vQHuPe bUWb7c\"></div><div class=\"L0jl5e bUWb7c cm4lTe\"><div class=\"vQHuPe bUWb7c D3FNOd\" style=\"width: 62.027788162231445%\"></div></div></div></div>']"
      ]
     },
     "execution_count": 22,
     "metadata": {},
     "output_type": "execute_result"
    }
   ],
   "source": [
    "starstr"
   ]
  },
  {
   "cell_type": "code",
   "execution_count": 24,
   "metadata": {},
   "outputs": [],
   "source": [
    "for e in starstr:\n",
    "    starstr2.append(e.replace('<div class=\"pf5lIe\"><div aria-label=\"별표 5개 만점에 ',''))"
   ]
  },
  {
   "cell_type": "code",
   "execution_count": 34,
   "metadata": {},
   "outputs": [
    {
     "data": {
      "text/plain": [
       "['4.2개를 받았습니다.\" role=\"img\"><div class=\"vQHuPe bUWb7c\"></div><div class=\"vQHuPe bUWb7c\"></div><div class=\"vQHuPe bUWb7c\"></div><div class=\"vQHuPe bUWb7c\"></div><div class=\"L0jl5e bUWb7c cm4lTe\"><div class=\"vQHuPe bUWb7c D3FNOd\" style=\"width: 15.259933471679688%\"></div></div></div></div>',\n",
       " '4.1개를 받았습니다.\" role=\"img\"><div class=\"vQHuPe bUWb7c\"></div><div class=\"vQHuPe bUWb7c\"></div><div class=\"vQHuPe bUWb7c\"></div><div class=\"vQHuPe bUWb7c\"></div><div class=\"L0jl5e bUWb7c cm4lTe\"><div class=\"vQHuPe bUWb7c D3FNOd\" style=\"width: 14.983367919921875%\"></div></div></div></div>',\n",
       " '4.4개를 받았습니다.\" role=\"img\"><div class=\"vQHuPe bUWb7c\"></div><div class=\"vQHuPe bUWb7c\"></div><div class=\"vQHuPe bUWb7c\"></div><div class=\"vQHuPe bUWb7c\"></div><div class=\"L0jl5e bUWb7c cm4lTe\"><div class=\"vQHuPe bUWb7c D3FNOd\" style=\"width: 37.908124923706055%\"></div></div></div></div>',\n",
       " '4.4개를 받았습니다.\" role=\"img\"><div class=\"vQHuPe bUWb7c\"></div><div class=\"vQHuPe bUWb7c\"></div><div class=\"vQHuPe bUWb7c\"></div><div class=\"vQHuPe bUWb7c\"></div><div class=\"L0jl5e bUWb7c cm4lTe\"><div class=\"vQHuPe bUWb7c D3FNOd\" style=\"width: 38.997745513916016%\"></div></div></div></div>',\n",
       " '4.2개를 받았습니다.\" role=\"img\"><div class=\"vQHuPe bUWb7c\"></div><div class=\"vQHuPe bUWb7c\"></div><div class=\"vQHuPe bUWb7c\"></div><div class=\"vQHuPe bUWb7c\"></div><div class=\"L0jl5e bUWb7c cm4lTe\"><div class=\"vQHuPe bUWb7c D3FNOd\" style=\"width: 15.508031845092773%\"></div></div></div></div>',\n",
       " '4.9개를 받았습니다.\" role=\"img\"><div class=\"vQHuPe bUWb7c\"></div><div class=\"vQHuPe bUWb7c\"></div><div class=\"vQHuPe bUWb7c\"></div><div class=\"vQHuPe bUWb7c\"></div><div class=\"L0jl5e bUWb7c cm4lTe\"><div class=\"vQHuPe bUWb7c D3FNOd\" style=\"width: 90.47093391418457%\"></div></div></div></div>',\n",
       " '4.2개를 받았습니다.\" role=\"img\"><div class=\"vQHuPe bUWb7c\"></div><div class=\"vQHuPe bUWb7c\"></div><div class=\"vQHuPe bUWb7c\"></div><div class=\"vQHuPe bUWb7c\"></div><div class=\"L0jl5e bUWb7c cm4lTe\"><div class=\"vQHuPe bUWb7c D3FNOd\" style=\"width: 19.057178497314453%\"></div></div></div></div>',\n",
       " '3.8개를 받았습니다.\" role=\"img\"><div class=\"vQHuPe bUWb7c\"></div><div class=\"vQHuPe bUWb7c\"></div><div class=\"vQHuPe bUWb7c\"></div><div class=\"L0jl5e bUWb7c cm4lTe\"><div class=\"vQHuPe bUWb7c D3FNOd\" style=\"width: 77.99148559570312%\"></div></div><div class=\"L0jl5e bUWb7c\"></div></div></div>',\n",
       " '4.4개를 받았습니다.\" role=\"img\"><div class=\"vQHuPe bUWb7c\"></div><div class=\"vQHuPe bUWb7c\"></div><div class=\"vQHuPe bUWb7c\"></div><div class=\"vQHuPe bUWb7c\"></div><div class=\"L0jl5e bUWb7c cm4lTe\"><div class=\"vQHuPe bUWb7c D3FNOd\" style=\"width: 42.96879768371582%\"></div></div></div></div>',\n",
       " '4.5개를 받았습니다.\" role=\"img\"><div class=\"vQHuPe bUWb7c\"></div><div class=\"vQHuPe bUWb7c\"></div><div class=\"vQHuPe bUWb7c\"></div><div class=\"vQHuPe bUWb7c\"></div><div class=\"L0jl5e bUWb7c cm4lTe\"><div class=\"vQHuPe bUWb7c D3FNOd\" style=\"width: 52.199649810791016%\"></div></div></div></div>',\n",
       " '4.5개를 받았습니다.\" role=\"img\"><div class=\"vQHuPe bUWb7c\"></div><div class=\"vQHuPe bUWb7c\"></div><div class=\"vQHuPe bUWb7c\"></div><div class=\"vQHuPe bUWb7c\"></div><div class=\"L0jl5e bUWb7c cm4lTe\"><div class=\"vQHuPe bUWb7c D3FNOd\" style=\"width: 52.72111892700195%\"></div></div></div></div>',\n",
       " '4.2개를 받았습니다.\" role=\"img\"><div class=\"vQHuPe bUWb7c\"></div><div class=\"vQHuPe bUWb7c\"></div><div class=\"vQHuPe bUWb7c\"></div><div class=\"vQHuPe bUWb7c\"></div><div class=\"L0jl5e bUWb7c cm4lTe\"><div class=\"vQHuPe bUWb7c D3FNOd\" style=\"width: 20.992708206176758%\"></div></div></div></div>',\n",
       " '4.0개를 받았습니다.\" role=\"img\"><div class=\"vQHuPe bUWb7c\"></div><div class=\"vQHuPe bUWb7c\"></div><div class=\"vQHuPe bUWb7c\"></div><div class=\"L0jl5e bUWb7c cm4lTe\"><div class=\"vQHuPe bUWb7c D3FNOd\" style=\"width: 95.18027305603027%\"></div></div><div class=\"L0jl5e bUWb7c\"></div></div></div>',\n",
       " '4.5개를 받았습니다.\" role=\"img\"><div class=\"vQHuPe bUWb7c\"></div><div class=\"vQHuPe bUWb7c\"></div><div class=\"vQHuPe bUWb7c\"></div><div class=\"vQHuPe bUWb7c\"></div><div class=\"L0jl5e bUWb7c cm4lTe\"><div class=\"vQHuPe bUWb7c D3FNOd\" style=\"width: 53.22747230529785%\"></div></div></div></div>',\n",
       " '2.9개를 받았습니다.\" role=\"img\"><div class=\"vQHuPe bUWb7c\"></div><div class=\"vQHuPe bUWb7c\"></div><div class=\"L0jl5e bUWb7c cm4lTe\"><div class=\"vQHuPe bUWb7c D3FNOd\" style=\"width: 88.33780288696289%\"></div></div><div class=\"L0jl5e bUWb7c\"></div><div class=\"L0jl5e bUWb7c\"></div></div></div>',\n",
       " '4.5개를 받았습니다.\" role=\"img\"><div class=\"vQHuPe bUWb7c\"></div><div class=\"vQHuPe bUWb7c\"></div><div class=\"vQHuPe bUWb7c\"></div><div class=\"vQHuPe bUWb7c\"></div><div class=\"L0jl5e bUWb7c cm4lTe\"><div class=\"vQHuPe bUWb7c D3FNOd\" style=\"width: 49.283409118652344%\"></div></div></div></div>',\n",
       " '4.6개를 받았습니다.\" role=\"img\"><div class=\"vQHuPe bUWb7c\"></div><div class=\"vQHuPe bUWb7c\"></div><div class=\"vQHuPe bUWb7c\"></div><div class=\"vQHuPe bUWb7c\"></div><div class=\"L0jl5e bUWb7c cm4lTe\"><div class=\"vQHuPe bUWb7c D3FNOd\" style=\"width: 63.75441551208496%\"></div></div></div></div>',\n",
       " '4.5개를 받았습니다.\" role=\"img\"><div class=\"vQHuPe bUWb7c\"></div><div class=\"vQHuPe bUWb7c\"></div><div class=\"vQHuPe bUWb7c\"></div><div class=\"vQHuPe bUWb7c\"></div><div class=\"L0jl5e bUWb7c cm4lTe\"><div class=\"vQHuPe bUWb7c D3FNOd\" style=\"width: 53.96933555603027%\"></div></div></div></div>',\n",
       " '3.9개를 받았습니다.\" role=\"img\"><div class=\"vQHuPe bUWb7c\"></div><div class=\"vQHuPe bUWb7c\"></div><div class=\"vQHuPe bUWb7c\"></div><div class=\"L0jl5e bUWb7c cm4lTe\"><div class=\"vQHuPe bUWb7c D3FNOd\" style=\"width: 91.71192646026611%\"></div></div><div class=\"L0jl5e bUWb7c\"></div></div></div>',\n",
       " '4.3개를 받았습니다.\" role=\"img\"><div class=\"vQHuPe bUWb7c\"></div><div class=\"vQHuPe bUWb7c\"></div><div class=\"vQHuPe bUWb7c\"></div><div class=\"vQHuPe bUWb7c\"></div><div class=\"L0jl5e bUWb7c cm4lTe\"><div class=\"vQHuPe bUWb7c D3FNOd\" style=\"width: 32.16414451599121%\"></div></div></div></div>',\n",
       " '4.7개를 받았습니다.\" role=\"img\"><div class=\"vQHuPe bUWb7c\"></div><div class=\"vQHuPe bUWb7c\"></div><div class=\"vQHuPe bUWb7c\"></div><div class=\"vQHuPe bUWb7c\"></div><div class=\"L0jl5e bUWb7c cm4lTe\"><div class=\"vQHuPe bUWb7c D3FNOd\" style=\"width: 74.81646537780762%\"></div></div></div></div>',\n",
       " '3.3개를 받았습니다.\" role=\"img\"><div class=\"vQHuPe bUWb7c\"></div><div class=\"vQHuPe bUWb7c\"></div><div class=\"vQHuPe bUWb7c\"></div><div class=\"L0jl5e bUWb7c cm4lTe\"><div class=\"vQHuPe bUWb7c D3FNOd\" style=\"width: 26.080822944641113%\"></div></div><div class=\"L0jl5e bUWb7c\"></div></div></div>',\n",
       " '4.4개를 받았습니다.\" role=\"img\"><div class=\"vQHuPe bUWb7c\"></div><div class=\"vQHuPe bUWb7c\"></div><div class=\"vQHuPe bUWb7c\"></div><div class=\"vQHuPe bUWb7c\"></div><div class=\"L0jl5e bUWb7c cm4lTe\"><div class=\"vQHuPe bUWb7c D3FNOd\" style=\"width: 35.01334190368652%\"></div></div></div></div>',\n",
       " '3.3개를 받았습니다.\" role=\"img\"><div class=\"vQHuPe bUWb7c\"></div><div class=\"vQHuPe bUWb7c\"></div><div class=\"vQHuPe bUWb7c\"></div><div class=\"L0jl5e bUWb7c cm4lTe\"><div class=\"vQHuPe bUWb7c D3FNOd\" style=\"width: 26.18076801300049%\"></div></div><div class=\"L0jl5e bUWb7c\"></div></div></div>',\n",
       " '4.2개를 받았습니다.\" role=\"img\"><div class=\"vQHuPe bUWb7c\"></div><div class=\"vQHuPe bUWb7c\"></div><div class=\"vQHuPe bUWb7c\"></div><div class=\"vQHuPe bUWb7c\"></div><div class=\"L0jl5e bUWb7c cm4lTe\"><div class=\"vQHuPe bUWb7c D3FNOd\" style=\"width: 24.507570266723633%\"></div></div></div></div>',\n",
       " '4.3개를 받았습니다.\" role=\"img\"><div class=\"vQHuPe bUWb7c\"></div><div class=\"vQHuPe bUWb7c\"></div><div class=\"vQHuPe bUWb7c\"></div><div class=\"vQHuPe bUWb7c\"></div><div class=\"L0jl5e bUWb7c cm4lTe\"><div class=\"vQHuPe bUWb7c D3FNOd\" style=\"width: 32.76782035827637%\"></div></div></div></div>',\n",
       " '4.5개를 받았습니다.\" role=\"img\"><div class=\"vQHuPe bUWb7c\"></div><div class=\"vQHuPe bUWb7c\"></div><div class=\"vQHuPe bUWb7c\"></div><div class=\"vQHuPe bUWb7c\"></div><div class=\"L0jl5e bUWb7c cm4lTe\"><div class=\"vQHuPe bUWb7c D3FNOd\" style=\"width: 54.95562553405762%\"></div></div></div></div>',\n",
       " '3.7개를 받았습니다.\" role=\"img\"><div class=\"vQHuPe bUWb7c\"></div><div class=\"vQHuPe bUWb7c\"></div><div class=\"vQHuPe bUWb7c\"></div><div class=\"L0jl5e bUWb7c cm4lTe\"><div class=\"vQHuPe bUWb7c D3FNOd\" style=\"width: 73.39639663696289%\"></div></div><div class=\"L0jl5e bUWb7c\"></div></div></div>',\n",
       " '4.3개를 받았습니다.\" role=\"img\"><div class=\"vQHuPe bUWb7c\"></div><div class=\"vQHuPe bUWb7c\"></div><div class=\"vQHuPe bUWb7c\"></div><div class=\"vQHuPe bUWb7c\"></div><div class=\"L0jl5e bUWb7c cm4lTe\"><div class=\"vQHuPe bUWb7c D3FNOd\" style=\"width: 34.05108451843262%\"></div></div></div></div>',\n",
       " '4.1개를 받았습니다.\" role=\"img\"><div class=\"vQHuPe bUWb7c\"></div><div class=\"vQHuPe bUWb7c\"></div><div class=\"vQHuPe bUWb7c\"></div><div class=\"vQHuPe bUWb7c\"></div><div class=\"L0jl5e bUWb7c cm4lTe\"><div class=\"vQHuPe bUWb7c D3FNOd\" style=\"width: 11.643838882446289%\"></div></div></div></div>',\n",
       " '4.5개를 받았습니다.\" role=\"img\"><div class=\"vQHuPe bUWb7c\"></div><div class=\"vQHuPe bUWb7c\"></div><div class=\"vQHuPe bUWb7c\"></div><div class=\"vQHuPe bUWb7c\"></div><div class=\"L0jl5e bUWb7c cm4lTe\"><div class=\"vQHuPe bUWb7c D3FNOd\" style=\"width: 47.26409912109375%\"></div></div></div></div>',\n",
       " '4.5개를 받았습니다.\" role=\"img\"><div class=\"vQHuPe bUWb7c\"></div><div class=\"vQHuPe bUWb7c\"></div><div class=\"vQHuPe bUWb7c\"></div><div class=\"vQHuPe bUWb7c\"></div><div class=\"L0jl5e bUWb7c cm4lTe\"><div class=\"vQHuPe bUWb7c D3FNOd\" style=\"width: 47.556209564208984%\"></div></div></div></div>',\n",
       " '4.0개를 받았습니다.\" role=\"img\"><div class=\"vQHuPe bUWb7c\"></div><div class=\"vQHuPe bUWb7c\"></div><div class=\"vQHuPe bUWb7c\"></div><div class=\"L0jl5e bUWb7c cm4lTe\"><div class=\"vQHuPe bUWb7c D3FNOd\" style=\"width: 95.39046287536621%\"></div></div><div class=\"L0jl5e bUWb7c\"></div></div></div>',\n",
       " '4.6개를 받았습니다.\" role=\"img\"><div class=\"vQHuPe bUWb7c\"></div><div class=\"vQHuPe bUWb7c\"></div><div class=\"vQHuPe bUWb7c\"></div><div class=\"vQHuPe bUWb7c\"></div><div class=\"L0jl5e bUWb7c cm4lTe\"><div class=\"vQHuPe bUWb7c D3FNOd\" style=\"width: 61.864662170410156%\"></div></div></div></div>',\n",
       " '4.7개를 받았습니다.\" role=\"img\"><div class=\"vQHuPe bUWb7c\"></div><div class=\"vQHuPe bUWb7c\"></div><div class=\"vQHuPe bUWb7c\"></div><div class=\"vQHuPe bUWb7c\"></div><div class=\"L0jl5e bUWb7c cm4lTe\"><div class=\"vQHuPe bUWb7c D3FNOd\" style=\"width: 67.23718643188477%\"></div></div></div></div>',\n",
       " '4.5개를 받았습니다.\" role=\"img\"><div class=\"vQHuPe bUWb7c\"></div><div class=\"vQHuPe bUWb7c\"></div><div class=\"vQHuPe bUWb7c\"></div><div class=\"vQHuPe bUWb7c\"></div><div class=\"L0jl5e bUWb7c cm4lTe\"><div class=\"vQHuPe bUWb7c D3FNOd\" style=\"width: 50.58870315551758%\"></div></div></div></div>',\n",
       " '4.0개를 받았습니다.\" role=\"img\"><div class=\"vQHuPe bUWb7c\"></div><div class=\"vQHuPe bUWb7c\"></div><div class=\"vQHuPe bUWb7c\"></div><div class=\"vQHuPe bUWb7c\"></div><div class=\"L0jl5e bUWb7c cm4lTe\"><div class=\"vQHuPe bUWb7c D3FNOd\" style=\"width: 1.9961357116699219%\"></div></div></div></div>',\n",
       " '4.6개를 받았습니다.\" role=\"img\"><div class=\"vQHuPe bUWb7c\"></div><div class=\"vQHuPe bUWb7c\"></div><div class=\"vQHuPe bUWb7c\"></div><div class=\"vQHuPe bUWb7c\"></div><div class=\"L0jl5e bUWb7c cm4lTe\"><div class=\"vQHuPe bUWb7c D3FNOd\" style=\"width: 61.22775077819824%\"></div></div></div></div>',\n",
       " '4.4개를 받았습니다.\" role=\"img\"><div class=\"vQHuPe bUWb7c\"></div><div class=\"vQHuPe bUWb7c\"></div><div class=\"vQHuPe bUWb7c\"></div><div class=\"vQHuPe bUWb7c\"></div><div class=\"L0jl5e bUWb7c cm4lTe\"><div class=\"vQHuPe bUWb7c D3FNOd\" style=\"width: 39.19072151184082%\"></div></div></div></div>',\n",
       " '4.1개를 받았습니다.\" role=\"img\"><div class=\"vQHuPe bUWb7c\"></div><div class=\"vQHuPe bUWb7c\"></div><div class=\"vQHuPe bUWb7c\"></div><div class=\"vQHuPe bUWb7c\"></div><div class=\"L0jl5e bUWb7c cm4lTe\"><div class=\"vQHuPe bUWb7c D3FNOd\" style=\"width: 8.970212936401367%\"></div></div></div></div>',\n",
       " '4.6개를 받았습니다.\" role=\"img\"><div class=\"vQHuPe bUWb7c\"></div><div class=\"vQHuPe bUWb7c\"></div><div class=\"vQHuPe bUWb7c\"></div><div class=\"vQHuPe bUWb7c\"></div><div class=\"L0jl5e bUWb7c cm4lTe\"><div class=\"vQHuPe bUWb7c D3FNOd\" style=\"width: 61.07292175292969%\"></div></div></div></div>',\n",
       " '4.2개를 받았습니다.\" role=\"img\"><div class=\"vQHuPe bUWb7c\"></div><div class=\"vQHuPe bUWb7c\"></div><div class=\"vQHuPe bUWb7c\"></div><div class=\"vQHuPe bUWb7c\"></div><div class=\"L0jl5e bUWb7c cm4lTe\"><div class=\"vQHuPe bUWb7c D3FNOd\" style=\"width: 21.418046951293945%\"></div></div></div></div>',\n",
       " '4.6개를 받았습니다.\" role=\"img\"><div class=\"vQHuPe bUWb7c\"></div><div class=\"vQHuPe bUWb7c\"></div><div class=\"vQHuPe bUWb7c\"></div><div class=\"vQHuPe bUWb7c\"></div><div class=\"L0jl5e bUWb7c cm4lTe\"><div class=\"vQHuPe bUWb7c D3FNOd\" style=\"width: 58.771371841430664%\"></div></div></div></div>',\n",
       " '3.9개를 받았습니다.\" role=\"img\"><div class=\"vQHuPe bUWb7c\"></div><div class=\"vQHuPe bUWb7c\"></div><div class=\"vQHuPe bUWb7c\"></div><div class=\"L0jl5e bUWb7c cm4lTe\"><div class=\"vQHuPe bUWb7c D3FNOd\" style=\"width: 87.23175525665283%\"></div></div><div class=\"L0jl5e bUWb7c\"></div></div></div>',\n",
       " '4.6개를 받았습니다.\" role=\"img\"><div class=\"vQHuPe bUWb7c\"></div><div class=\"vQHuPe bUWb7c\"></div><div class=\"vQHuPe bUWb7c\"></div><div class=\"vQHuPe bUWb7c\"></div><div class=\"L0jl5e bUWb7c cm4lTe\"><div class=\"vQHuPe bUWb7c D3FNOd\" style=\"width: 55.15780448913574%\"></div></div></div></div>',\n",
       " '4.7개를 받았습니다.\" role=\"img\"><div class=\"vQHuPe bUWb7c\"></div><div class=\"vQHuPe bUWb7c\"></div><div class=\"vQHuPe bUWb7c\"></div><div class=\"vQHuPe bUWb7c\"></div><div class=\"L0jl5e bUWb7c cm4lTe\"><div class=\"vQHuPe bUWb7c D3FNOd\" style=\"width: 68.03231239318848%\"></div></div></div></div>',\n",
       " '4.2개를 받았습니다.\" role=\"img\"><div class=\"vQHuPe bUWb7c\"></div><div class=\"vQHuPe bUWb7c\"></div><div class=\"vQHuPe bUWb7c\"></div><div class=\"vQHuPe bUWb7c\"></div><div class=\"L0jl5e bUWb7c cm4lTe\"><div class=\"vQHuPe bUWb7c D3FNOd\" style=\"width: 20.986557006835938%\"></div></div></div></div>',\n",
       " '4.7개를 받았습니다.\" role=\"img\"><div class=\"vQHuPe bUWb7c\"></div><div class=\"vQHuPe bUWb7c\"></div><div class=\"vQHuPe bUWb7c\"></div><div class=\"vQHuPe bUWb7c\"></div><div class=\"L0jl5e bUWb7c cm4lTe\"><div class=\"vQHuPe bUWb7c D3FNOd\" style=\"width: 69.25320625305176%\"></div></div></div></div>',\n",
       " '4.5개를 받았습니다.\" role=\"img\"><div class=\"vQHuPe bUWb7c\"></div><div class=\"vQHuPe bUWb7c\"></div><div class=\"vQHuPe bUWb7c\"></div><div class=\"vQHuPe bUWb7c\"></div><div class=\"L0jl5e bUWb7c cm4lTe\"><div class=\"vQHuPe bUWb7c D3FNOd\" style=\"width: 54.125022888183594%\"></div></div></div></div>',\n",
       " '4.6개를 받았습니다.\" role=\"img\"><div class=\"vQHuPe bUWb7c\"></div><div class=\"vQHuPe bUWb7c\"></div><div class=\"vQHuPe bUWb7c\"></div><div class=\"vQHuPe bUWb7c\"></div><div class=\"L0jl5e bUWb7c cm4lTe\"><div class=\"vQHuPe bUWb7c D3FNOd\" style=\"width: 62.027788162231445%\"></div></div></div></div>']"
      ]
     },
     "execution_count": 34,
     "metadata": {},
     "output_type": "execute_result"
    }
   ],
   "source": [
    "starstr2"
   ]
  },
  {
   "cell_type": "code",
   "execution_count": 37,
   "metadata": {},
   "outputs": [],
   "source": [
    "for e in starstr2:\n",
    "    starstr3.append(e[:3])"
   ]
  },
  {
   "cell_type": "code",
   "execution_count": 38,
   "metadata": {},
   "outputs": [
    {
     "data": {
      "text/plain": [
       "['4.2',\n",
       " '4.1',\n",
       " '4.4',\n",
       " '4.4',\n",
       " '4.2',\n",
       " '4.9',\n",
       " '4.2',\n",
       " '3.8',\n",
       " '4.4',\n",
       " '4.5',\n",
       " '4.5',\n",
       " '4.2',\n",
       " '4.0',\n",
       " '4.5',\n",
       " '2.9',\n",
       " '4.5',\n",
       " '4.6',\n",
       " '4.5',\n",
       " '3.9',\n",
       " '4.3',\n",
       " '4.7',\n",
       " '3.3',\n",
       " '4.4',\n",
       " '3.3',\n",
       " '4.2',\n",
       " '4.3',\n",
       " '4.5',\n",
       " '3.7',\n",
       " '4.3',\n",
       " '4.1',\n",
       " '4.5',\n",
       " '4.5',\n",
       " '4.0',\n",
       " '4.6',\n",
       " '4.7',\n",
       " '4.5',\n",
       " '4.0',\n",
       " '4.6',\n",
       " '4.4',\n",
       " '4.1',\n",
       " '4.6',\n",
       " '4.2',\n",
       " '4.6',\n",
       " '3.9',\n",
       " '4.6',\n",
       " '4.7',\n",
       " '4.2',\n",
       " '4.7',\n",
       " '4.5',\n",
       " '4.6']"
      ]
     },
     "execution_count": 38,
     "metadata": {},
     "output_type": "execute_result"
    }
   ],
   "source": [
    "starstr3"
   ]
  },
  {
   "cell_type": "code",
   "execution_count": 39,
   "metadata": {},
   "outputs": [
    {
     "data": {
      "text/plain": [
       "50"
      ]
     },
     "execution_count": 39,
     "metadata": {},
     "output_type": "execute_result"
    }
   ],
   "source": [
    "len(starstr3)"
   ]
  },
  {
   "cell_type": "code",
   "execution_count": null,
   "metadata": {},
   "outputs": [],
   "source": []
  },
  {
   "cell_type": "code",
   "execution_count": 43,
   "metadata": {},
   "outputs": [],
   "source": [
    "for e in starstr3:\n",
    "    starstr4.append(e+'****')"
   ]
  },
  {
   "cell_type": "code",
   "execution_count": 48,
   "metadata": {},
   "outputs": [
    {
     "data": {
      "text/plain": [
       "['4.2****',\n",
       " '4.1****',\n",
       " '4.4****',\n",
       " '4.4****',\n",
       " '4.2****',\n",
       " '4.9****',\n",
       " '4.2****',\n",
       " '3.8****',\n",
       " '4.4****',\n",
       " '4.5****',\n",
       " '4.5****',\n",
       " '4.2****',\n",
       " '4.0****',\n",
       " '4.5****',\n",
       " '2.9****',\n",
       " '4.5****',\n",
       " '4.6****',\n",
       " '4.5****',\n",
       " '3.9****',\n",
       " '4.3****',\n",
       " '4.7****',\n",
       " '3.3****',\n",
       " '4.4****',\n",
       " '3.3****',\n",
       " '4.2****',\n",
       " '4.3****',\n",
       " '4.5****',\n",
       " '3.7****',\n",
       " '4.3****',\n",
       " '4.1****',\n",
       " '4.5****',\n",
       " '4.5****',\n",
       " '4.0****',\n",
       " '4.6****',\n",
       " '4.7****',\n",
       " '4.5****',\n",
       " '4.0****',\n",
       " '4.6****',\n",
       " '4.4****',\n",
       " '4.1****',\n",
       " '4.6****',\n",
       " '4.2****',\n",
       " '4.6****',\n",
       " '3.9****',\n",
       " '4.6****',\n",
       " '4.7****',\n",
       " '4.2****',\n",
       " '4.7****',\n",
       " '4.5****',\n",
       " '4.6****']"
      ]
     },
     "execution_count": 48,
     "metadata": {},
     "output_type": "execute_result"
    }
   ],
   "source": [
    "starstr4"
   ]
  },
  {
   "cell_type": "code",
   "execution_count": 49,
   "metadata": {},
   "outputs": [],
   "source": [
    "f=open('star.txt',mode='wt',encoding='utf-8')"
   ]
  },
  {
   "cell_type": "code",
   "execution_count": 51,
   "metadata": {},
   "outputs": [],
   "source": [
    "for e in starstr4:\n",
    "    f.write(e)"
   ]
  },
  {
   "cell_type": "code",
   "execution_count": 52,
   "metadata": {},
   "outputs": [],
   "source": [
    "f.close()"
   ]
  },
  {
   "cell_type": "code",
   "execution_count": null,
   "metadata": {},
   "outputs": [],
   "source": []
  }
 ],
 "metadata": {
  "kernelspec": {
   "display_name": "Python 3",
   "language": "python",
   "name": "python3"
  },
  "language_info": {
   "codemirror_mode": {
    "name": "ipython",
    "version": 3
   },
   "file_extension": ".py",
   "mimetype": "text/x-python",
   "name": "python",
   "nbconvert_exporter": "python",
   "pygments_lexer": "ipython3",
   "version": "3.7.3"
  }
 },
 "nbformat": 4,
 "nbformat_minor": 2
}
