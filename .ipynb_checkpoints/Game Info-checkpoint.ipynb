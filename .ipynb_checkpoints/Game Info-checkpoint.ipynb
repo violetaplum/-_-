{
 "cells": [
  {
   "cell_type": "code",
   "execution_count": 61,
   "metadata": {},
   "outputs": [],
   "source": [
    "import os\n",
    "from selenium import webdriver\n",
    "import webbrowser\n",
    "from bs4 import BeautifulSoup"
   ]
  },
  {
   "cell_type": "code",
   "execution_count": 62,
   "metadata": {},
   "outputs": [],
   "source": [
    "driver = webdriver.Chrome('C:/Users/KGITBANK/Desktop/오후반/chromedriver_win32/chromedriver')"
   ]
  },
  {
   "cell_type": "code",
   "execution_count": 63,
   "metadata": {},
   "outputs": [],
   "source": [
    "driver.implicitly_wait(3)"
   ]
  },
  {
   "cell_type": "code",
   "execution_count": null,
   "metadata": {},
   "outputs": [],
   "source": []
  },
  {
   "cell_type": "code",
   "execution_count": 64,
   "metadata": {},
   "outputs": [],
   "source": [
    "appleUrl='http://www.gevolution.co.kr/'"
   ]
  },
  {
   "cell_type": "code",
   "execution_count": 65,
   "metadata": {},
   "outputs": [],
   "source": [
    "driver.get(appleUrl)"
   ]
  },
  {
   "cell_type": "code",
   "execution_count": 66,
   "metadata": {},
   "outputs": [],
   "source": [
    "keword="
   ]
  },
  {
   "cell_type": "code",
   "execution_count": 67,
   "metadata": {
    "scrolled": true
   },
   "outputs": [],
   "source": [
    "searchinput=driver.find_element_by_class_name('tp_keyword')"
   ]
  },
  {
   "cell_type": "code",
   "execution_count": 68,
   "metadata": {},
   "outputs": [],
   "source": [
    "searchbutton=driver.find_element_by_id('searchSubmit')"
   ]
  },
  {
   "cell_type": "code",
   "execution_count": 69,
   "metadata": {},
   "outputs": [],
   "source": [
    "searchinput.send_keys(keword)"
   ]
  },
  {
   "cell_type": "code",
   "execution_count": 70,
   "metadata": {},
   "outputs": [],
   "source": [
    "searchbutton.click()"
   ]
  },
  {
   "cell_type": "code",
   "execution_count": 53,
   "metadata": {},
   "outputs": [],
   "source": []
  },
  {
   "cell_type": "code",
   "execution_count": 71,
   "metadata": {},
   "outputs": [],
   "source": [
    "driver.find_element_by_class_name('tracktitle').click()"
   ]
  },
  {
   "cell_type": "code",
   "execution_count": 72,
   "metadata": {},
   "outputs": [],
   "source": [
    "searchedurl=driver.current_url+'#online_feature'"
   ]
  },
  {
   "cell_type": "code",
   "execution_count": 73,
   "metadata": {},
   "outputs": [],
   "source": [
    "driver.get(searchedurl)"
   ]
  },
  {
   "cell_type": "code",
   "execution_count": null,
   "metadata": {},
   "outputs": [],
   "source": []
  },
  {
   "cell_type": "code",
   "execution_count": 74,
   "metadata": {},
   "outputs": [],
   "source": [
    "soup = BeautifulSoup(driver.page_source,'lxml')"
   ]
  },
  {
   "cell_type": "code",
   "execution_count": 75,
   "metadata": {},
   "outputs": [],
   "source": [
    "gameinfo=list()"
   ]
  },
  {
   "cell_type": "code",
   "execution_count": 76,
   "metadata": {},
   "outputs": [],
   "source": [
    "for e in soup.select('.gameinfo_oarea'):\n",
    "    gameinfo.append(e)"
   ]
  },
  {
   "cell_type": "code",
   "execution_count": 77,
   "metadata": {},
   "outputs": [
    {
     "data": {
      "text/plain": [
       "[<div class=\"gameinfo_oarea\">\n",
       " <br/>지금까지 어디에서도 본 적 없는 새로운 게임의 등장!<br/><br/>=====================================<br/>◆일곱 개의 대죄: GRAND CROSS 게임 특징◆<br/>=====================================<br/><br/>▶  스킬 합성을 통한 전략성 넘치는 전투 시스템<br/>동일한 스킬이 나란히 배치되면 더 강한 스킬로 랭크 업!<br/>한 턴 한 턴 짜릿함을 느낄 수 있는 박진감 넘치는 전투!<br/>카드를 합치고 사용하여, 궁극의 \"필살\"로 상대를 완벽하게 제압하자!<br/><br/>▶ 친구와 협동하여 거대 마신을 물리치는 섬멸전<br/>2명이서 실시간으로 즐기는 멀티 협동 콘텐츠!<br/>친구와 함께 마을을 공격하는 마신을 무찌르자!<br/>제한된 시간 이내 친구와 협동하여 마신을 물리치고 왕국을 지켜내자!<br/><br/>▶ 게임에서만 볼 수 있는 캐릭터들의 다양한 모습<br/>그 동안 어디서도 볼 수 없었던 , 오직 게임에서만 존재하는 오리지널 의상이 한 가득!<br/>여기에 나만의 스타일로 캐릭터를 꾸밀 수 있는 다양한 코스튬까지!<br/> 캐릭터들의 새로운 모습을 확인하자!<br/><br/>▶ 원작 세계관의 철저한 구현<br/>브리타니아 대륙 완벽 구현! 3000년 전 종료된 성전이 다시 시작된다!<br/>고퀄리티 3D 애니메이션으로 펼쳐지는 원작 스토리를 바탕으로<br/> 캐릭터들과 직접 성전을 대비하자!<br/><br/>▶ AR로 구현된 캐릭터들!<br/>원하는 캐릭터와 함께 다양한 포즈로 사진도 찍고<br/>캐릭터의 생동감 넘치는 댄스와 함께 동영상 촬영까지 다양하게 즐겨보자<br/><br/><br/>[선택적 접근권한]<br/><br/>CAMERA<br/>- 인게임 AR 기능에 필요한 권한으로, AR 캐릭터와 함께 사진을 찍기 위해 해당 권한이 필요합니다.<br/><br/>WRITE_EXTERNAL_STORAGE<br/>- 사진 및 동영상등의 데이터를 저장하기 위해 필요합니다.<br/><br/><br/>최신 정보를 확인하러 가보자!<br/><br/>- 사전등록 사이트: 7ds.netmarble.com<br/>- 공식 카페: https://cafe.naver.com/7dsgc<br/><br/><br/>※ 유료 아이템 구매 시 별도의 요금이 부과됩니다.<br/>- 공급자: 넷마블㈜ 대표집행임원 권영식<br/>- 이용조건 및 기간: 게임 내 별도 고지된 내용에 따름<br/>(사용기간이 표시되지 않은 경우, 서비스의 종료일까지를 사용기간으로 간주)<br/>- 결제금액 및 방법: 상품 별 별도 고지된 결제금액 및 결제방법에 따름<br/>(외화 결제 시 환율 및 수수료 등으로 인해 실제 청구금액과 다를 수 있음)<br/>- 상품지급방식: 게임 내 구매한 아이디(캐릭터)로 즉시 지급<br/>- 최소사양: CPU 쿼드코어 2.1GHz, Ram 3GB<br/>- 고객센터: 1588-3995 (평일 오전9시~오후6시 상담가능)<br/>- 사업자 이메일 : netmarbles@igsinc.co.kr<br/>- 주소: 서울특별시 구로구 디지털로 300<br/>- 사업자 번호: 105-87-64746<br/>- 통신판매업 번호: 제 2014-서울구로-1028 호<br/>- 이용약관 : http://help.netmarble.com/policy/terms_of_service.asp locale=ko<br/>- 개인정보 처리방침 : http://help.netmarble.com/policy/privacy_policy.asp locale=ko<br/>- 서비스 운영 정책 : https://help.netmarble.com/web/nanakr/policy lcLocale=ko<br/><br/>개발자 연락처 :<br/>개발자 연락처 : 02-1588-3995 <br/>서울시 구로구 디지털로 300 지밸리비즈플라자 20층<br/>사업자 번호 : 105-87-64746  <br/>통신판매업 번호 : 제제2014-서울구로-1028호\n",
       " \t\t\t\t</div>]"
      ]
     },
     "execution_count": 77,
     "metadata": {},
     "output_type": "execute_result"
    }
   ],
   "source": [
    "gameinfo"
   ]
  },
  {
   "cell_type": "code",
   "execution_count": null,
   "metadata": {},
   "outputs": [],
   "source": []
  },
  {
   "cell_type": "code",
   "execution_count": null,
   "metadata": {},
   "outputs": [],
   "source": []
  },
  {
   "cell_type": "code",
   "execution_count": null,
   "metadata": {},
   "outputs": [],
   "source": []
  },
  {
   "cell_type": "code",
   "execution_count": null,
   "metadata": {},
   "outputs": [],
   "source": []
  },
  {
   "cell_type": "code",
   "execution_count": null,
   "metadata": {},
   "outputs": [],
   "source": []
  },
  {
   "cell_type": "code",
   "execution_count": null,
   "metadata": {},
   "outputs": [],
   "source": []
  },
  {
   "cell_type": "code",
   "execution_count": null,
   "metadata": {},
   "outputs": [],
   "source": []
  },
  {
   "cell_type": "code",
   "execution_count": null,
   "metadata": {},
   "outputs": [],
   "source": []
  },
  {
   "cell_type": "code",
   "execution_count": null,
   "metadata": {},
   "outputs": [],
   "source": []
  },
  {
   "cell_type": "code",
   "execution_count": null,
   "metadata": {},
   "outputs": [],
   "source": []
  }
 ],
 "metadata": {
  "kernelspec": {
   "display_name": "Python 3",
   "language": "python",
   "name": "python3"
  },
  "language_info": {
   "codemirror_mode": {
    "name": "ipython",
    "version": 3
   },
   "file_extension": ".py",
   "mimetype": "text/x-python",
   "name": "python",
   "nbconvert_exporter": "python",
   "pygments_lexer": "ipython3",
   "version": "3.7.3"
  }
 },
 "nbformat": 4,
 "nbformat_minor": 2
}
